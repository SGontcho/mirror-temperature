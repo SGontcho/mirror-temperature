{
 "cells": [
  {
   "cell_type": "markdown",
   "id": "f07815fc-4225-4302-9a1c-4359bfdf8979",
   "metadata": {},
   "source": [
    "\n",
    "# Time Syncronization of DESI Telemetry Data\n",
    "\n",
    "As is, the DESI telemetry data is spread out across multiple different tables. As is is shown in the correlations plots in the `correlation` folder, there us very weak correlation across different tables. Before proper analysis can be done, the several datatables of interest must \n",
    "be syncronized in time. This involves rebinning and interpolation of the data is currently being hosted by NERSC."
   ]
  },
  {
   "cell_type": "markdown",
   "id": "cd1ac51f-b133-4c5d-9da9-21ffd6bf3533",
   "metadata": {},
   "source": [
    "## Imports"
   ]
  },
  {
   "cell_type": "code",
   "execution_count": 1,
   "id": "2af9e5b4-0b55-4d87-b799-38f37538cf51",
   "metadata": {},
   "outputs": [
    {
     "name": "stdout",
     "output_type": "stream",
     "text": [
      "No GPU devices available!\n"
     ]
    }
   ],
   "source": [
    "import numpy as np\n",
    "import pandas as pd\n",
    "from scipy import stats\n",
    "import pickle\n",
    "import matplotlib.pyplot as plt\n",
    "%matplotlib inline\n",
    "from tqdm.notebook import trange\n",
    "from IPython.display import display, Image\n",
    "import pytz\n",
    "try:\n",
    "    import numba as nb\n",
    "    nb.cuda.detect()\n",
    "    import cupy as cp\n",
    "    %pip install -q cudf-cu11 dask-cudf-cu11 --extra-index-url=https://pypi.ngc.nvidia.com\n",
    "    import cudf as cd\n",
    "    gpu_access = True\n",
    "except:\n",
    "    gpu_access = False\n",
    "    print('No GPU devices available!')\n",
    "data_dir = '../../py/desiforecast/data'"
   ]
  },
  {
   "cell_type": "markdown",
   "id": "fdb62e24-6d00-42da-adb3-f2f4f71a6b51",
   "metadata": {},
   "source": [
    "## Load Data"
   ]
  },
  {
   "cell_type": "code",
   "execution_count": 2,
   "id": "20370890-51c8-478c-8222-01ca909cd697",
   "metadata": {},
   "outputs": [],
   "source": [
    "with open(f'{data_dir}/environmentmonitor_tower.pkl', 'rb') as pf:\n",
    "    tower_data = pd.read_pickle(pf)\n",
    "with open(f'{data_dir}/environmentmonitor_dome.pkl', 'rb') as pf:\n",
    "    dome_data = pd.read_pickle(pf)\n",
    "with open(f'{data_dir}/environmentmonitor_telescope.pkl', 'rb') as pf:\n",
    "    telescope_data = pd.read_pickle(pf)\n",
    "with open(f'{data_dir}/etc_seeing.pkl', 'rb') as pf:\n",
    "    seeing_data = pd.read_pickle(pf)\n",
    "with open(f'{data_dir}/etc_telemetry.pkl', 'rb') as pf:\n",
    "    telemetry_data = pd.read_pickle(pf)\n",
    "with open(f'{data_dir}/tcs_info.pkl', 'rb') as pf:\n",
    "    tcs_data = pd.read_pickle(pf)\n",
    "telemetry_data.sort_index(inplace=True)\n",
    "seeing_data.sort_index(inplace=True)"
   ]
  },
  {
   "cell_type": "code",
   "execution_count": 3,
   "id": "045ebf18-9657-4807-a5ec-d09303bc63db",
   "metadata": {},
   "outputs": [
    {
     "name": "stdout",
     "output_type": "stream",
     "text": [
      "temperature       True\n",
      "pressure          True\n",
      "humidity          True\n",
      "wind_speed        True\n",
      "wind_direction    True\n",
      "dimm              True\n",
      "dewpoint          True\n",
      "dtype: bool\n",
      "dome_left_upper     True\n",
      "dome_left_lower     True\n",
      "dome_right_upper    True\n",
      "dome_right_lower    True\n",
      "dome_back_upper     True\n",
      "dome_back_lower     True\n",
      "dome_floor_ne       True\n",
      "dome_floor_nw       True\n",
      "dome_floor_s        True\n",
      "dtype: bool\n",
      "mirror_avg_temp        True\n",
      "mirror_desired_temp    True\n",
      "mirror_temp            True\n",
      "mirror_cooling         True\n",
      "air_temp               True\n",
      "air_flow               True\n",
      "air_dewpoint           True\n",
      "dtype: bool\n",
      "etc_seeing     True\n",
      "seeing        False\n",
      "dtype: bool\n",
      "seeing          False\n",
      "transparency    False\n",
      "skylevel        False\n",
      "dtype: bool\n",
      "mirror_ready    True\n",
      "airmass         True\n",
      "dtype: bool\n"
     ]
    }
   ],
   "source": [
    "print(tower_data.notnull().all())\n",
    "print(dome_data.notnull().all())\n",
    "print(telescope_data.notnull().all())\n",
    "print(seeing_data.notnull().all())\n",
    "print(telemetry_data.notnull().all())\n",
    "print(tcs_data.notnull().all())"
   ]
  },
  {
   "cell_type": "markdown",
   "id": "65f9f4f1-71c7-49ee-b483-a4ffc2052f0f",
   "metadata": {},
   "source": [
    "## 02/09/23 Tasks\n",
    "- Plot for every month\n",
    "    - Get delta temp when mirror cooling is off\n",
    "    - Get time it reach desired temp during mirror cooling\n",
    "    - Ambient air during mirror cooling\n",
    "\n",
    "- March 8, desi movie in Oakland hills"
   ]
  },
  {
   "cell_type": "markdown",
   "id": "5102d568-1384-433c-a3d8-dad22200f9b8",
   "metadata": {},
   "source": [
    "## Useful Functions"
   ]
  },
  {
   "cell_type": "code",
   "execution_count": 11,
   "id": "d388f41f-6d12-4779-9cf5-8285be4bd557",
   "metadata": {},
   "outputs": [],
   "source": [
    "# removes results outside of 5 std\n",
    "@nb.jit(forceobj=True, parallel=True)\n",
    "def remove_outliers(data):\n",
    "    if data is not np.ndarray:\n",
    "        data = data.to_numpy()\n",
    "    return data[(np.abs(stats.zscore(data)) < 5)]\n",
    "\n",
    "@nb.jit(forceobj=True)\n",
    "def get_time_ranges(cooling_on):\n",
    "    changes = telescope_data['mirror_cooling'][1:].to_numpy()-telescope_data['mirror_cooling'][:len(telescope_data)-1].to_numpy()\n",
    "    ranges = []\n",
    "    start=0\n",
    "    for i in range(len(changes)):\n",
    "        if cooling_on:\n",
    "            if changes[i] == 1:\n",
    "                start = i\n",
    "            elif changes[i] == -1:\n",
    "                end = i\n",
    "                ranges.append(np.linspace(start+1, end, end-start, dtype=np.int64))\n",
    "        else:\n",
    "            if changes[i] == -1:\n",
    "                start = i\n",
    "            elif changes[i] == 1:\n",
    "                end = i\n",
    "                ranges.append(np.linspace(start+1, end, end-start, dtype=np.int64))\n",
    "    return ranges\n",
    "\n",
    "def mirror_cooling_plots(cooling_on):\n",
    "    time_ranges = get_time_ranges(cooling_on=cooling_on)\n",
    "    mirror_ambient_delta = telescope_data['air_temp']-telescope_data['mirror_temp']\n",
    "    mirror_desired_delta = telescope_data['mirror_desired_temp']-telescope_data['mirror_temp']\n",
    "    folder = 'mirror_cooling_on' if cooling_on else 'mirror_cooling_off'\n",
    "    df = pd.DataFrame()\n",
    "    mins = []\n",
    "    maxs = []\n",
    "    mean = []\n",
    "    median = []\n",
    "    std = []\n",
    "    var = []\n",
    "    start = []\n",
    "    end = []\n",
    "    start_time = []\n",
    "    equalize_time = []\n",
    "    ambient_when_equal = []\n",
    "    for i in trange(len(time_ranges), desc=folder):\n",
    "        if cooling_on:\n",
    "            mins.append(mirror_ambient_delta.iloc[time_ranges[i]].min())\n",
    "            maxs.append(mirror_ambient_delta.iloc[time_ranges[i]].max())\n",
    "            mean.append(mirror_ambient_delta.iloc[time_ranges[i]].mean())\n",
    "            median.append(mirror_ambient_delta.iloc[time_ranges[i]].median())\n",
    "            std.append(mirror_ambient_delta.iloc[time_ranges[i]].std())\n",
    "            var.append(mirror_ambient_delta.iloc[time_ranges[i]].var())\n",
    "            start.append(mirror_ambient_delta.iloc[time_ranges[i][0]])\n",
    "            end.append(mirror_ambient_delta.iloc[time_ranges[i][-1]])\n",
    "            start_time.append(mirror_ambient_delta.index[time_ranges[i]])\n",
    "            equalize = np.argwhere(mirror_ambient_delta.iloc[time_ranges[i]].to_numpy()<1e1).flatten()\n",
    "            if len(equalize):\n",
    "                equalize_time.append(mirror_ambient_delta.index[time_ranges[i]][equalize[0]]-mirror_ambient_delta.index[time_ranges[i][0]])\n",
    "                ambient_when_equal.append(telescope_data.iloc[time_ranges[i]]['air_temp'][equalize[0]])\n",
    "            else:\n",
    "                equalize_time.append(None)\n",
    "                ambient_when_equal.append(None)\n",
    "                \n",
    "    df['mins'] = mins\n",
    "    df['maxs'] = maxs\n",
    "    df['mean'] = mean\n",
    "    df['median'] = median\n",
    "    df['std'] = std\n",
    "    df['var'] = var\n",
    "    df['start'] = start\n",
    "    df['end'] = end\n",
    "    df['start_time'] = start_time\n",
    "    df['equalize_time'] = equalize_time\n",
    "    df['ambient_when_equal'] = ambient_when_equal\n",
    "    df.set_index('start_time', inplace=True)\n",
    "    with open(f'{data_dir}/temp_delta.pkl', 'wb') as pf:\n",
    "        pickle.dump(df, pf)\n",
    "#         fig, ax = plt.subplots(ncols=2, figsize=(20,10))\n",
    "#         ax0_plots = []\n",
    "#         ax1_plots = []\n",
    "#         ax[0].autoscale(True)\n",
    "#         ax[0].set_title('Mirror Temperature vs. Date/Time')\n",
    "#         ax[0].set_ylabel('Mirror Temperature (Celcius)')\n",
    "#         ax[0].set_xlabel('Date/Time')\n",
    "#         ax[1].autoscale(True)\n",
    "#         ax[1].set_title('Dome & Tower Temperature vs. Date/Time')\n",
    "#         ax[1].set_ylabel('Dome Temperature (Celcius)')\n",
    "#         ax[1].set_xlabel('Date/Time')\n",
    "    \n",
    "#         fig.autofmt_xdate()        \n",
    "\n",
    "#         ax0_plots.append(ax[0].plot(telescope_data.index[time_ranges[i]], telescope_data.iloc[time_ranges[i]]['mirror_avg_temp'], label='average mirror temp')[0])\n",
    "#         ax0_plots.append(ax[0].plot(telescope_data.index[time_ranges[i]], telescope_data.iloc[time_ranges[i]]['mirror_temp'], label='mirror temp')[0])\n",
    "#         ax0_plots.append(ax[0].plot(telescope_data.index[time_ranges[i]], telescope_data.iloc[time_ranges[i]]['mirror_desired_temp'], label='desired mirror temp')[0])\n",
    "#         ax0_plots.append(ax[0].plot(telescope_data.index[time_ranges[i]], telescope_data.iloc[time_ranges[i]]['air_temp'], label='air temp')[0])\n",
    "#         ax0_plots.append(ax[0].plot(telescope_data.index[time_ranges[i]], telescope_data.iloc[time_ranges[i]]['mirror_cooling'], label='mirror cooling')[0])\n",
    "#         ax0_plots.append(ax[0].plot(mirror_ambient_delta.index[time_ranges[i]], mirror_ambient_delta.iloc[time_ranges[i]], label='ambient & mirror temp delta')[0])\n",
    "#         ax0_plots.append(ax[0].plot(mirror_desired_delta.index[time_ranges[i]], mirror_desired_delta.iloc[time_ranges[i]], label='desired & mirror temp delta')[0])\n",
    "#         ax[0].axhline(y=1.5, color='maroon', linestyle='--')\n",
    "#         ax[0].axhline(y=-1.5, color='maroon', linestyle='--')\n",
    "#         ax[0].annotate(u\"1.5 \\u2103\", xy=(telescope_data.index[time_ranges[i]][-1], 1.75), annotation_clip=False, ha='right')\n",
    "#         ax[0].annotate(u\"-1.5 \\u2103\", xy=(telescope_data.index[time_ranges[i]][-1], -1.25), annotation_clip=False, ha='right')\n",
    "\n",
    "#         if not cooling_on:\n",
    "#             telemetry_indicies = np.argwhere(np.logical_and(telemetry_data.index >= telescope_data.index[time_ranges[i]][0], telemetry_data.index <= telescope_data.index[time_ranges[i]][-1])).flatten()\n",
    "#             if len(telemetry_data.iloc[telemetry_indicies]['seeing']):\n",
    "#                 twin0 = ax[0].twinx()\n",
    "#                 ax[0].set_title('Mirror Temperature & Seeing vs. Date/Time')\n",
    "#                 twin0.set_ylabel('Seeing')\n",
    "#                 twin0.autoscale(True)\n",
    "#                 ax0_plots.append(twin0.plot(telemetry_data.index[telemetry_indicies], telemetry_data.iloc[telemetry_indicies]['seeing'], color=\"indigo\", label='seeing')[0])\n",
    "\n",
    "#         ax1_plots.append(ax[1].plot(dome_data.index[time_ranges[i]], dome_data.iloc[time_ranges[i]]['dome_floor_ne'], label='dome floor temp (NE)')[0])\n",
    "#         ax1_plots.append(ax[1].plot(dome_data.index[time_ranges[i]], dome_data.iloc[time_ranges[i]]['dome_floor_nw'], label='dome floor temp (NW)')[0])\n",
    "#         ax1_plots.append(ax[1].plot(dome_data.index[time_ranges[i]], dome_data.iloc[time_ranges[i]]['dome_floor_s'], label='dome floor temp (S)')[0])\n",
    "\n",
    "#         twin1 = ax[1].twinx()\n",
    "#         ax1_plots.append(twin1.plot(tower_data.index[time_ranges[i]], tower_data.iloc[time_ranges[i]]['temperature'], color=\"indigo\", label='tower temp')[0])\n",
    "#         twin1.autoscale(True)\n",
    "#         twin1.set_ylabel('Tower Temperature (Celcius)')\n",
    "\n",
    "#         ax[0].legend(handles=ax0_plots)\n",
    "#         ax[1].legend(handles=ax1_plots)\n",
    "\n",
    "#         year = telescope_data.index[time_ranges[i]][0].year\n",
    "#         month = telescope_data.index[time_ranges[i]][0].month\n",
    "#         day = telescope_data.index[time_ranges[i]][0].day\n",
    "#         plt.rcParams['figure.facecolor'] = 'white'\n",
    "#         fig.savefig(f'time_plots/{folder}/{year}-{month}-{day}.png', format='png')\n",
    "#         plt.close(fig)"
   ]
  },
  {
   "cell_type": "code",
   "execution_count": 12,
   "id": "2404e149-de96-43f8-88e5-771ace8d33d4",
   "metadata": {},
   "outputs": [
    {
     "data": {
      "application/vnd.jupyter.widget-view+json": {
       "model_id": "9e6f87c85b204440bd5abf9fe2005b20",
       "version_major": 2,
       "version_minor": 0
      },
      "text/plain": [
       "mirror_cooling_on:   0%|          | 0/699 [00:00<?, ?it/s]"
      ]
     },
     "metadata": {},
     "output_type": "display_data"
    }
   ],
   "source": [
    "mirror_cooling_plots(cooling_on=True)\n",
    "# mirror_cooling_plots(cooling_on=False)"
   ]
  },
  {
   "cell_type": "code",
   "execution_count": 13,
   "id": "4a20c658-3b45-46f4-952a-bd72640cce7c",
   "metadata": {},
   "outputs": [],
   "source": [
    "with open(f'{data_dir}/temp_delta.pkl', 'rb') as pf:\n",
    "    temp_delta_data = pd.read_pickle(pf)"
   ]
  },
  {
   "cell_type": "code",
   "execution_count": 14,
   "id": "ddc0c810-a76d-49fa-b1ba-7ff21d37b2ca",
   "metadata": {},
   "outputs": [
    {
     "name": "stdout",
     "output_type": "stream",
     "text": [
      "start_time\n",
      "[2020-11-04 22:34:12-07:00, 2020-11-04 22:34:18-07:00, 2020-11-04 22:34:24-07:00, 2020-11-04 22:34:30-07:00, 2020-11-04 22:34:36-07:00, 2020-11-04 22:34:42-07:00, 2020-11-04 22:34:48-07:00, 2020-11-04 22:34:54-07:00, 2020-11-04 22:35:00-07:00, 2020-11-04 22:35:06-07:00, 2020-11-04 22:35:12-07:00, 2020-11-04 22:35:18-07:00, 2020-11-04 22:35:24-07:00, 2020-11-04 22:35:30-07:00, 2020-11-04 22:35:36-07:00, 2020-11-04 22:35:42-07:00, 2020-11-04 22:35:48-07:00, 2020-11-04 22:35:54-07:00, 2020-11-04 22:36:00-07:00, 2020-11-04 22:36:06-07:00, 2020-11-04 22:36:12-07:00, 2020-11-04 22:36:18-07:00, 2020-11-04 22:36:24-07:00, 2020-11-04 22:36:30-07:00, 2020-11-04 22:36:36-07:00, 2020-11-04 22:36:42-07:00, 2020-11-04 22:36:48-07:00, 2020-11-04 22:36:54-07:00, 2020-11-04 22:37:00-07:00, 2020-11-04 22:37:06-07:00, 2020-11-04 22:37:12-07:00, 2020-11-04 22:37:18-07:00, 2020-11-04 22:37:24-07:00, 2020-11-04 22:37:30-07:00, 2020-11-04 22:37:36-07:00, 2020-11-04 22:37:42-07:00, 2020-11-04 22:37:48-07:00, 2020-11-04 22:37:54-07:00, 2020-11-04 22:38:00-07:00, 2020-11-04 22:38:06-07:00, 2020-11-04 22:38:12-07:00, 2020-11-04 22:38:18-07:00, 2020-11-04 22:38:24-07:00, 2020-11-04 22:38:30-07:00, 2020-11-04 22:38:36-07:00, 2020-11-04 22:38:42-07:00, 2020-11-04 22:38:48-07:00, 2020-11-04 22:38:54-07:00, 2020-11-04 22:39:00-07:00, 2020-11-04 22:39:06-07:00, 2020-11-04 22:39:12-07:00, 2020-11-04 22:39:18-07:00, 2020-11-04 22:39:24-07:00, 2020-11-04 22:39:30-07:00, 2020-11-04 22:39:36-07:00, 2020-11-04 22:39:42-07:00, 2020-11-04 22:39:48-07:00, 2020-11-04 22:39:54-07:00, 2020-11-04 22:40:00-07:00, 2020-11-04 22:40:06-07:00, 2020-11-04 22:40:12-07:00, 2020-11-04 22:40:18-07:00, 2020-11-04 22:40:24-07:00, 2020-11-04 22:40:30-07:00, 2020-11-04 22:40:36-07:00, 2020-11-04 22:40:42-07:00, 2020-11-04 22:40:48-07:00, 2020-11-04 22:40:54-07:00, 2020-11-04 22:41:00-07:00, 2020-11-04 22:41:06-07:00, 2020-11-04 22:41:12-07:00, 2020-11-04 22:41:18-07:00, 2020-11-04 22:41:24-07:00, 2020-11-04 22:41:30-07:00, 2020-11-04 22:41:36-07:00, 2020-11-04 22:41:42-07:00, 2020-11-04 22:41:48-07:00, 2020-11-04 22:41:54-07:00, 2020-11-04 22:42:00-07:00, 2020-11-04 22:42:06-07:00, 2020-11-04 22:42:12-07:00, 2020-11-04 22:42:18-07:00, 2020-11-04 22:42:24-07:00, 2020-11-04 22:42:30-07:00, 2020-11-04 22:42:36-07:00, 2020-11-04 22:42:42-07:00, 2020-11-04 22:42:48-07:00, 2020-11-04 22:42:54-07:00, 2020-11-04 22:43:00-07:00, 2020-11-04 22:43:06-07:00, 2020-11-04 22:43:12-07:00, 2020-11-04 22:43:18-07:00, 2020-11-04 22:43:24-07:00, 2020-11-04 22:43:30-07:00, 2020-11-04 22:43:36-07:00, 2020-11-04 22:43:42-07:00, 2020-11-04 22:43:48-07:00, 2020-11-04 22:43:54-07:00, 2020-11-04 22:44:00-07:00, 2020-11-04 22:44:06-07:00, ...]   0 days\n",
      "[2020-11-17 13:28:54-07:00]                                                                                                                                                                                                                                                                                                                                                                                                                                                                                                                                                                                                                                                                                                                                                                                                                                                                                                                                                                                                                                                                                                                                                                                                                                                                                                                                                                                                                                                                                                                                                                                                                                                                                                                                                                                                                                                                                                                                                                                                                                                                                                                                                                                                                                                                                                                                                                                                                                                                                                                                                                                                                                                                                                                                                                                         0 days\n",
      "[2020-11-17 13:31:30-07:00]                                                                                                                                                                                                                                                                                                                                                                                                                                                                                                                                                                                                                                                                                                                                                                                                                                                                                                                                                                                                                                                                                                                                                                                                                                                                                                                                                                                                                                                                                                                                                                                                                                                                                                                                                                                                                                                                                                                                                                                                                                                                                                                                                                                                                                                                                                                                                                                                                                                                                                                                                                                                                                                                                                                                                                                         0 days\n",
      "[2020-11-17 13:35:48-07:00]                                                                                                                                                                                                                                                                                                                                                                                                                                                                                                                                                                                                                                                                                                                                                                                                                                                                                                                                                                                                                                                                                                                                                                                                                                                                                                                                                                                                                                                                                                                                                                                                                                                                                                                                                                                                                                                                                                                                                                                                                                                                                                                                                                                                                                                                                                                                                                                                                                                                                                                                                                                                                                                                                                                                                                                         0 days\n",
      "[2020-11-17 13:43:30-07:00]                                                                                                                                                                                                                                                                                                                                                                                                                                                                                                                                                                                                                                                                                                                                                                                                                                                                                                                                                                                                                                                                                                                                                                                                                                                                                                                                                                                                                                                                                                                                                                                                                                                                                                                                                                                                                                                                                                                                                                                                                                                                                                                                                                                                                                                                                                                                                                                                                                                                                                                                                                                                                                                                                                                                                                                         0 days\n",
      "                                                                                                                                                                                                                                                                                                                                                                                                                                                                                                                                                                                                                                                                                                                                                                                                                                                                                                                                                                                                                                                                                                                                                                                                                                                                                                                                                                                                                                                                                                                                                                                                                                                                                                                                                                                                                                                                                                                                                                                                                                                                                                                                                                                                                                                                                                                                                                                                                                                                                                                                                                                                                                                                                                                                                                                                                     ...  \n",
      "[2023-02-08 06:32:42-07:00, 2023-02-08 06:32:48-07:00, 2023-02-08 06:32:54-07:00, 2023-02-08 06:33:00-07:00, 2023-02-08 06:33:06-07:00, 2023-02-08 06:33:12-07:00, 2023-02-08 06:33:18-07:00, 2023-02-08 06:33:24-07:00, 2023-02-08 06:33:30-07:00, 2023-02-08 06:33:36-07:00, 2023-02-08 06:33:42-07:00, 2023-02-08 06:33:48-07:00, 2023-02-08 06:33:54-07:00, 2023-02-08 06:34:00-07:00, 2023-02-08 06:34:06-07:00, 2023-02-08 06:34:12-07:00, 2023-02-08 06:34:18-07:00, 2023-02-08 06:34:24-07:00, 2023-02-08 06:34:30-07:00, 2023-02-08 06:34:36-07:00, 2023-02-08 06:34:42-07:00, 2023-02-08 06:34:48-07:00, 2023-02-08 06:34:54-07:00, 2023-02-08 06:35:00-07:00, 2023-02-08 06:35:06-07:00, 2023-02-08 06:35:12-07:00, 2023-02-08 06:35:18-07:00, 2023-02-08 06:35:24-07:00, 2023-02-08 06:35:30-07:00, 2023-02-08 06:35:36-07:00, 2023-02-08 06:35:42-07:00, 2023-02-08 06:35:48-07:00, 2023-02-08 06:35:54-07:00, 2023-02-08 06:36:00-07:00, 2023-02-08 06:36:06-07:00, 2023-02-08 06:36:12-07:00, 2023-02-08 06:36:18-07:00, 2023-02-08 06:36:24-07:00, 2023-02-08 06:36:30-07:00, 2023-02-08 06:36:36-07:00, 2023-02-08 06:36:42-07:00, 2023-02-08 06:36:48-07:00, 2023-02-08 06:36:54-07:00, 2023-02-08 06:37:00-07:00, 2023-02-08 06:37:06-07:00, 2023-02-08 06:37:12-07:00, 2023-02-08 06:37:18-07:00, 2023-02-08 06:37:24-07:00, 2023-02-08 06:37:30-07:00, 2023-02-08 06:37:36-07:00, 2023-02-08 06:37:42-07:00, 2023-02-08 06:37:48-07:00, 2023-02-08 06:37:54-07:00, 2023-02-08 06:38:00-07:00, 2023-02-08 06:38:06-07:00, 2023-02-08 06:38:12-07:00, 2023-02-08 06:38:18-07:00, 2023-02-08 06:38:24-07:00, 2023-02-08 06:38:30-07:00, 2023-02-08 06:38:36-07:00, 2023-02-08 06:38:42-07:00, 2023-02-08 06:38:48-07:00, 2023-02-08 06:38:54-07:00, 2023-02-08 06:39:00-07:00, 2023-02-08 06:39:06-07:00, 2023-02-08 06:39:12-07:00, 2023-02-08 06:39:18-07:00, 2023-02-08 06:39:24-07:00, 2023-02-08 06:39:30-07:00, 2023-02-08 06:39:36-07:00, 2023-02-08 06:39:42-07:00, 2023-02-08 06:39:48-07:00, 2023-02-08 06:39:54-07:00, 2023-02-08 06:40:00-07:00, 2023-02-08 06:40:06-07:00, 2023-02-08 06:40:12-07:00, 2023-02-08 06:40:18-07:00, 2023-02-08 06:40:24-07:00, 2023-02-08 06:40:30-07:00, 2023-02-08 06:40:36-07:00, 2023-02-08 06:40:42-07:00, 2023-02-08 06:40:48-07:00, 2023-02-08 06:40:54-07:00, 2023-02-08 06:41:00-07:00, 2023-02-08 06:41:06-07:00, 2023-02-08 06:41:12-07:00, 2023-02-08 06:41:18-07:00, 2023-02-08 06:41:24-07:00, 2023-02-08 06:41:30-07:00, 2023-02-08 06:41:36-07:00, 2023-02-08 06:41:42-07:00, 2023-02-08 06:41:48-07:00, 2023-02-08 06:41:54-07:00, 2023-02-08 06:42:00-07:00, 2023-02-08 06:42:06-07:00, 2023-02-08 06:42:12-07:00, 2023-02-08 06:42:18-07:00, 2023-02-08 06:42:24-07:00, 2023-02-08 06:42:30-07:00, 2023-02-08 06:42:36-07:00, ...]   0 days\n",
      "[2023-02-09 06:34:12-07:00, 2023-02-09 06:34:18-07:00, 2023-02-09 06:34:24-07:00, 2023-02-09 06:34:30-07:00, 2023-02-09 06:34:36-07:00, 2023-02-09 06:34:42-07:00, 2023-02-09 06:34:48-07:00, 2023-02-09 06:34:54-07:00, 2023-02-09 06:35:00-07:00, 2023-02-09 06:35:06-07:00, 2023-02-09 06:35:12-07:00, 2023-02-09 06:35:18-07:00, 2023-02-09 06:35:24-07:00, 2023-02-09 06:35:30-07:00, 2023-02-09 06:35:36-07:00, 2023-02-09 06:35:42-07:00, 2023-02-09 06:35:48-07:00, 2023-02-09 06:35:54-07:00, 2023-02-09 06:36:00-07:00, 2023-02-09 06:36:06-07:00, 2023-02-09 06:36:12-07:00, 2023-02-09 06:36:18-07:00, 2023-02-09 06:36:24-07:00, 2023-02-09 06:36:30-07:00, 2023-02-09 06:36:36-07:00, 2023-02-09 06:36:42-07:00, 2023-02-09 06:36:48-07:00, 2023-02-09 06:36:54-07:00, 2023-02-09 06:37:00-07:00, 2023-02-09 06:37:06-07:00, 2023-02-09 06:37:12-07:00, 2023-02-09 06:37:18-07:00, 2023-02-09 06:37:24-07:00, 2023-02-09 06:37:30-07:00, 2023-02-09 06:37:36-07:00, 2023-02-09 06:37:42-07:00, 2023-02-09 06:37:48-07:00, 2023-02-09 06:37:54-07:00, 2023-02-09 06:38:00-07:00, 2023-02-09 06:38:06-07:00, 2023-02-09 06:38:12-07:00, 2023-02-09 06:38:18-07:00, 2023-02-09 06:38:24-07:00, 2023-02-09 06:38:30-07:00, 2023-02-09 06:38:36-07:00, 2023-02-09 06:38:42-07:00, 2023-02-09 06:38:48-07:00, 2023-02-09 06:38:54-07:00, 2023-02-09 06:39:00-07:00, 2023-02-09 06:39:06-07:00, 2023-02-09 06:39:12-07:00, 2023-02-09 06:39:18-07:00, 2023-02-09 06:39:24-07:00, 2023-02-09 06:39:30-07:00, 2023-02-09 06:39:36-07:00, 2023-02-09 06:39:42-07:00, 2023-02-09 06:39:48-07:00, 2023-02-09 06:39:54-07:00, 2023-02-09 06:40:00-07:00, 2023-02-09 06:40:06-07:00, 2023-02-09 06:40:12-07:00, 2023-02-09 06:40:18-07:00, 2023-02-09 06:40:24-07:00, 2023-02-09 06:40:30-07:00, 2023-02-09 06:40:36-07:00, 2023-02-09 06:40:42-07:00, 2023-02-09 06:40:48-07:00, 2023-02-09 06:40:54-07:00, 2023-02-09 06:41:00-07:00, 2023-02-09 06:41:06-07:00, 2023-02-09 06:41:12-07:00, 2023-02-09 06:41:18-07:00, 2023-02-09 06:41:24-07:00, 2023-02-09 06:41:30-07:00, 2023-02-09 06:41:36-07:00, 2023-02-09 06:41:42-07:00, 2023-02-09 06:41:48-07:00, 2023-02-09 06:41:54-07:00, 2023-02-09 06:42:00-07:00, 2023-02-09 06:42:06-07:00, 2023-02-09 06:42:12-07:00, 2023-02-09 06:42:18-07:00, 2023-02-09 06:42:24-07:00, 2023-02-09 06:42:30-07:00, 2023-02-09 06:42:36-07:00, 2023-02-09 06:42:42-07:00, 2023-02-09 06:42:48-07:00, 2023-02-09 06:42:54-07:00, 2023-02-09 06:43:00-07:00, 2023-02-09 06:43:06-07:00, 2023-02-09 06:43:12-07:00, 2023-02-09 06:43:18-07:00, 2023-02-09 06:43:24-07:00, 2023-02-09 06:43:30-07:00, 2023-02-09 06:43:36-07:00, 2023-02-09 06:43:42-07:00, 2023-02-09 06:43:48-07:00, 2023-02-09 06:43:54-07:00, 2023-02-09 06:44:00-07:00, 2023-02-09 06:44:06-07:00, ...]   0 days\n",
      "[2023-02-10 06:39:18-07:00, 2023-02-10 06:39:24-07:00, 2023-02-10 06:39:30-07:00, 2023-02-10 06:39:36-07:00, 2023-02-10 06:39:42-07:00, 2023-02-10 06:39:48-07:00, 2023-02-10 06:39:54-07:00, 2023-02-10 06:40:00-07:00, 2023-02-10 06:40:06-07:00, 2023-02-10 06:40:12-07:00, 2023-02-10 06:40:18-07:00, 2023-02-10 06:40:24-07:00, 2023-02-10 06:40:30-07:00, 2023-02-10 06:40:36-07:00, 2023-02-10 06:40:42-07:00, 2023-02-10 06:40:48-07:00, 2023-02-10 06:40:54-07:00, 2023-02-10 06:41:00-07:00, 2023-02-10 06:41:06-07:00, 2023-02-10 06:41:12-07:00, 2023-02-10 06:41:18-07:00, 2023-02-10 06:41:24-07:00, 2023-02-10 06:41:30-07:00, 2023-02-10 06:41:36-07:00, 2023-02-10 06:41:42-07:00, 2023-02-10 06:41:48-07:00, 2023-02-10 06:41:54-07:00, 2023-02-10 06:42:00-07:00, 2023-02-10 06:42:06-07:00, 2023-02-10 06:42:12-07:00, 2023-02-10 06:42:18-07:00, 2023-02-10 06:42:24-07:00, 2023-02-10 06:42:30-07:00, 2023-02-10 06:42:36-07:00, 2023-02-10 06:42:42-07:00, 2023-02-10 06:42:48-07:00, 2023-02-10 06:42:54-07:00, 2023-02-10 06:43:00-07:00, 2023-02-10 06:43:06-07:00, 2023-02-10 06:43:12-07:00, 2023-02-10 06:43:18-07:00, 2023-02-10 06:43:24-07:00, 2023-02-10 06:43:30-07:00, 2023-02-10 06:43:36-07:00, 2023-02-10 06:43:42-07:00, 2023-02-10 06:43:48-07:00, 2023-02-10 06:43:54-07:00, 2023-02-10 06:44:00-07:00, 2023-02-10 06:44:06-07:00, 2023-02-10 06:44:12-07:00, 2023-02-10 06:44:18-07:00, 2023-02-10 06:44:24-07:00, 2023-02-10 06:44:30-07:00, 2023-02-10 06:44:36-07:00, 2023-02-10 06:44:42-07:00, 2023-02-10 06:44:48-07:00, 2023-02-10 06:44:54-07:00, 2023-02-10 06:45:00-07:00, 2023-02-10 06:45:06-07:00, 2023-02-10 06:45:12-07:00, 2023-02-10 06:45:18-07:00, 2023-02-10 06:45:24-07:00, 2023-02-10 06:45:30-07:00, 2023-02-10 06:45:36-07:00, 2023-02-10 06:45:42-07:00, 2023-02-10 06:45:48-07:00, 2023-02-10 06:45:54-07:00, 2023-02-10 06:46:00-07:00, 2023-02-10 06:46:06-07:00, 2023-02-10 06:46:12-07:00, 2023-02-10 06:46:18-07:00, 2023-02-10 06:46:24-07:00, 2023-02-10 06:46:30-07:00, 2023-02-10 06:46:36-07:00, 2023-02-10 06:46:42-07:00, 2023-02-10 06:46:48-07:00, 2023-02-10 06:46:54-07:00, 2023-02-10 06:47:00-07:00, 2023-02-10 06:47:06-07:00, 2023-02-10 06:47:12-07:00, 2023-02-10 06:47:18-07:00, 2023-02-10 06:47:24-07:00, 2023-02-10 06:47:30-07:00, 2023-02-10 06:47:36-07:00, 2023-02-10 06:47:42-07:00, 2023-02-10 06:47:48-07:00, 2023-02-10 06:47:54-07:00, 2023-02-10 06:48:00-07:00, 2023-02-10 06:48:06-07:00, 2023-02-10 06:48:12-07:00, 2023-02-10 06:48:18-07:00, 2023-02-10 06:48:24-07:00, 2023-02-10 06:48:30-07:00, 2023-02-10 06:48:36-07:00, 2023-02-10 06:48:42-07:00, 2023-02-10 06:48:48-07:00, 2023-02-10 06:48:54-07:00, 2023-02-10 06:49:00-07:00, 2023-02-10 06:49:06-07:00, 2023-02-10 06:49:12-07:00, ...]   0 days\n",
      "[2023-02-10 23:48:48-07:00, 2023-02-10 23:48:54-07:00, 2023-02-10 23:49:00-07:00, 2023-02-10 23:49:06-07:00, 2023-02-10 23:49:12-07:00, 2023-02-10 23:49:18-07:00, 2023-02-10 23:49:24-07:00, 2023-02-10 23:49:30-07:00, 2023-02-10 23:49:36-07:00, 2023-02-10 23:49:42-07:00, 2023-02-10 23:49:48-07:00, 2023-02-10 23:49:54-07:00, 2023-02-10 23:50:00-07:00, 2023-02-10 23:50:06-07:00, 2023-02-10 23:50:12-07:00, 2023-02-10 23:50:18-07:00, 2023-02-10 23:50:24-07:00, 2023-02-10 23:50:30-07:00, 2023-02-10 23:50:36-07:00, 2023-02-10 23:50:42-07:00, 2023-02-10 23:50:48-07:00, 2023-02-10 23:50:54-07:00, 2023-02-10 23:51:00-07:00, 2023-02-10 23:51:06-07:00, 2023-02-10 23:51:12-07:00, 2023-02-10 23:51:18-07:00, 2023-02-10 23:51:24-07:00, 2023-02-10 23:51:30-07:00, 2023-02-10 23:51:36-07:00, 2023-02-10 23:51:42-07:00, 2023-02-10 23:51:48-07:00, 2023-02-10 23:51:54-07:00, 2023-02-10 23:52:00-07:00, 2023-02-10 23:52:06-07:00, 2023-02-10 23:52:12-07:00, 2023-02-10 23:52:18-07:00, 2023-02-10 23:52:24-07:00, 2023-02-10 23:52:30-07:00, 2023-02-10 23:52:36-07:00, 2023-02-10 23:52:42-07:00, 2023-02-10 23:52:48-07:00, 2023-02-10 23:52:54-07:00, 2023-02-10 23:53:00-07:00, 2023-02-10 23:53:06-07:00, 2023-02-10 23:53:12-07:00, 2023-02-10 23:53:18-07:00, 2023-02-10 23:53:24-07:00, 2023-02-10 23:53:30-07:00, 2023-02-10 23:53:36-07:00, 2023-02-10 23:53:42-07:00, 2023-02-10 23:53:48-07:00, 2023-02-10 23:53:54-07:00, 2023-02-10 23:54:00-07:00, 2023-02-10 23:54:06-07:00, 2023-02-10 23:54:12-07:00, 2023-02-10 23:54:18-07:00, 2023-02-10 23:54:24-07:00, 2023-02-10 23:54:30-07:00, 2023-02-10 23:54:36-07:00, 2023-02-10 23:54:42-07:00, 2023-02-10 23:54:48-07:00, 2023-02-10 23:54:54-07:00, 2023-02-10 23:55:00-07:00, 2023-02-10 23:55:06-07:00, 2023-02-10 23:55:12-07:00, 2023-02-10 23:55:18-07:00, 2023-02-10 23:55:24-07:00, 2023-02-10 23:55:30-07:00, 2023-02-10 23:55:36-07:00, 2023-02-10 23:55:42-07:00, 2023-02-10 23:55:48-07:00, 2023-02-10 23:55:54-07:00, 2023-02-10 23:56:00-07:00, 2023-02-10 23:56:06-07:00, 2023-02-10 23:56:12-07:00, 2023-02-10 23:56:18-07:00, 2023-02-10 23:56:24-07:00, 2023-02-10 23:56:30-07:00, 2023-02-10 23:56:36-07:00, 2023-02-10 23:56:42-07:00, 2023-02-10 23:56:48-07:00, 2023-02-10 23:56:54-07:00, 2023-02-10 23:57:00-07:00, 2023-02-10 23:57:06-07:00, 2023-02-10 23:57:12-07:00, 2023-02-10 23:57:18-07:00, 2023-02-10 23:57:24-07:00, 2023-02-10 23:57:30-07:00, 2023-02-10 23:57:36-07:00, 2023-02-10 23:57:42-07:00, 2023-02-10 23:57:48-07:00, 2023-02-10 23:57:54-07:00, 2023-02-10 23:58:00-07:00, 2023-02-10 23:58:06-07:00, 2023-02-10 23:58:12-07:00, 2023-02-10 23:58:18-07:00, 2023-02-10 23:58:24-07:00, 2023-02-10 23:58:30-07:00, 2023-02-10 23:58:36-07:00, 2023-02-10 23:58:42-07:00, ...]   0 days\n",
      "[2023-02-12 06:26:36-07:00, 2023-02-12 06:26:42-07:00, 2023-02-12 06:26:48-07:00, 2023-02-12 06:26:54-07:00, 2023-02-12 06:27:00-07:00, 2023-02-12 06:27:06-07:00, 2023-02-12 06:27:12-07:00, 2023-02-12 06:27:18-07:00, 2023-02-12 06:27:24-07:00, 2023-02-12 06:27:30-07:00, 2023-02-12 06:27:36-07:00, 2023-02-12 06:27:42-07:00, 2023-02-12 06:27:48-07:00, 2023-02-12 06:27:54-07:00, 2023-02-12 06:28:00-07:00, 2023-02-12 06:28:06-07:00, 2023-02-12 06:28:12-07:00, 2023-02-12 06:28:18-07:00, 2023-02-12 06:28:24-07:00, 2023-02-12 06:28:30-07:00, 2023-02-12 06:28:36-07:00, 2023-02-12 06:28:42-07:00, 2023-02-12 06:28:48-07:00, 2023-02-12 06:28:54-07:00, 2023-02-12 06:29:00-07:00, 2023-02-12 06:29:06-07:00, 2023-02-12 06:29:12-07:00, 2023-02-12 06:29:18-07:00, 2023-02-12 06:29:24-07:00, 2023-02-12 06:29:30-07:00, 2023-02-12 06:29:36-07:00, 2023-02-12 06:29:42-07:00, 2023-02-12 06:29:48-07:00, 2023-02-12 06:29:54-07:00, 2023-02-12 06:30:00-07:00, 2023-02-12 06:30:06-07:00, 2023-02-12 06:30:12-07:00, 2023-02-12 06:30:18-07:00, 2023-02-12 06:30:24-07:00, 2023-02-12 06:30:30-07:00, 2023-02-12 06:30:36-07:00, 2023-02-12 06:30:42-07:00, 2023-02-12 06:30:48-07:00, 2023-02-12 06:30:54-07:00, 2023-02-12 06:31:00-07:00, 2023-02-12 06:31:06-07:00, 2023-02-12 06:31:12-07:00, 2023-02-12 06:31:18-07:00, 2023-02-12 06:31:24-07:00, 2023-02-12 06:31:30-07:00, 2023-02-12 06:31:36-07:00, 2023-02-12 06:31:42-07:00, 2023-02-12 06:31:48-07:00, 2023-02-12 06:31:54-07:00, 2023-02-12 06:32:00-07:00, 2023-02-12 06:32:06-07:00, 2023-02-12 06:32:12-07:00, 2023-02-12 06:32:18-07:00, 2023-02-12 06:32:24-07:00, 2023-02-12 06:32:30-07:00, 2023-02-12 06:32:36-07:00, 2023-02-12 06:32:42-07:00, 2023-02-12 06:32:48-07:00, 2023-02-12 06:32:54-07:00, 2023-02-12 06:33:00-07:00, 2023-02-12 06:33:06-07:00, 2023-02-12 06:33:12-07:00, 2023-02-12 06:33:18-07:00, 2023-02-12 06:33:24-07:00, 2023-02-12 06:33:30-07:00, 2023-02-12 06:33:36-07:00, 2023-02-12 06:33:42-07:00, 2023-02-12 06:33:48-07:00, 2023-02-12 06:33:54-07:00, 2023-02-12 06:34:00-07:00, 2023-02-12 06:34:06-07:00, 2023-02-12 06:34:12-07:00, 2023-02-12 06:34:18-07:00, 2023-02-12 06:34:24-07:00, 2023-02-12 06:34:30-07:00, 2023-02-12 06:34:36-07:00, 2023-02-12 06:34:42-07:00, 2023-02-12 06:34:48-07:00, 2023-02-12 06:34:54-07:00, 2023-02-12 06:35:00-07:00, 2023-02-12 06:35:06-07:00, 2023-02-12 06:35:12-07:00, 2023-02-12 06:35:18-07:00, 2023-02-12 06:35:24-07:00, 2023-02-12 06:35:30-07:00, 2023-02-12 06:35:36-07:00, 2023-02-12 06:35:42-07:00, 2023-02-12 06:35:48-07:00, 2023-02-12 06:35:54-07:00, 2023-02-12 06:36:00-07:00, 2023-02-12 06:36:06-07:00, 2023-02-12 06:36:12-07:00, 2023-02-12 06:36:18-07:00, 2023-02-12 06:36:24-07:00, 2023-02-12 06:36:30-07:00, ...]   0 days\n",
      "Name: equalize_time, Length: 699, dtype: timedelta64[ns]\n"
     ]
    }
   ],
   "source": [
    "print(temp_delta_data['equalize_time'])"
   ]
  },
  {
   "cell_type": "code",
   "execution_count": 8,
   "id": "a2df1c9f-4a04-42a4-9b0e-b9aea30826ea",
   "metadata": {},
   "outputs": [
    {
     "ename": "NameError",
     "evalue": "name 'get_time_ranges' is not defined",
     "output_type": "error",
     "traceback": [
      "\u001b[0;31m---------------------------------------------------------------------------\u001b[0m",
      "\u001b[0;31mNameError\u001b[0m                                 Traceback (most recent call last)",
      "\u001b[0;32m/tmp/ipykernel_52822/2236621986.py\u001b[0m in \u001b[0;36m<module>\u001b[0;34m\u001b[0m\n\u001b[0;32m----> 1\u001b[0;31m \u001b[0mtime_ranges1\u001b[0m \u001b[0;34m=\u001b[0m \u001b[0mget_time_ranges\u001b[0m\u001b[0;34m(\u001b[0m\u001b[0mfind_mirror_on\u001b[0m\u001b[0;34m=\u001b[0m\u001b[0;32mTrue\u001b[0m\u001b[0;34m)\u001b[0m\u001b[0;34m\u001b[0m\u001b[0;34m\u001b[0m\u001b[0m\n\u001b[0m\u001b[1;32m      2\u001b[0m \u001b[0mtime_ranges2\u001b[0m \u001b[0;34m=\u001b[0m \u001b[0mget_time_ranges\u001b[0m\u001b[0;34m(\u001b[0m\u001b[0mfind_mirror_on\u001b[0m\u001b[0;34m=\u001b[0m\u001b[0;32mFalse\u001b[0m\u001b[0;34m)\u001b[0m\u001b[0;34m\u001b[0m\u001b[0;34m\u001b[0m\u001b[0m\n\u001b[1;32m      3\u001b[0m \u001b[0;32massert\u001b[0m\u001b[0;34m(\u001b[0m\u001b[0mtime_ranges1\u001b[0m\u001b[0;34m!=\u001b[0m\u001b[0mtime_ranges2\u001b[0m\u001b[0;34m)\u001b[0m\u001b[0;34m\u001b[0m\u001b[0;34m\u001b[0m\u001b[0m\n",
      "\u001b[0;31mNameError\u001b[0m: name 'get_time_ranges' is not defined"
     ]
    }
   ],
   "source": [
    "time_ranges1 = get_time_ranges(find_mirror_on=True)\n",
    "time_ranges2 = get_time_ranges(find_mirror_on=False)\n",
    "assert(time_ranges1!=time_ranges2)"
   ]
  },
  {
   "cell_type": "code",
   "execution_count": null,
   "id": "1a4cb2ca-55f8-4699-9e63-99c12f89eb39",
   "metadata": {},
   "outputs": [],
   "source": [
    "with open(f'{data_dir}/environmentmonitor_tower.pkl', 'wb') as pf:\n",
    "    pickle.dump(tower_data, pf)\n",
    "with open(f'{data_dir}/environmentmonitor_dome.pkl', 'wb') as pf:\n",
    "    pickle.dump(dome_data, pf)\n",
    "with open(f'{data_dir}/environmentmonitor_telescope.pkl', 'wb') as pf:\n",
    "    pickle.dump(telescope_data, pf)\n",
    "with open(f'{data_dir}/etc_seeing.pkl', 'wb') as pf:\n",
    "    pickle.dump(seeing_data, pf)\n",
    "with open(f'{data_dir}/etc_seeing.pkl', 'wb') as pf:\n",
    "    pickle.dump(telemetry_data, pf)\n",
    "with open(f'{data_dir}/etc_seeing.pkl', 'wb') as pf:\n",
    "    pickle.dump(tcs_data, pf)"
   ]
  },
  {
   "cell_type": "code",
   "execution_count": null,
   "id": "23733193-24b2-42d5-8adf-6978dcb9c4c1",
   "metadata": {},
   "outputs": [],
   "source": [
    "temp_delta = (telescope_data['air_temp']-telescope_data['mirror_temp']).dropna()\n",
    "print(f'mininum: {temp_delta.min()}')\n",
    "print(f'maximum: {temp_delta.max()}')\n",
    "print(f'variance: {temp_delta.var()}')\n",
    "print(f'standard deviation: {temp_delta.std()}')\n",
    "\n",
    "fig, ax = plt.subplots(figsize=(15, 5))\n",
    "ax.plot(temp_delta.index, temp_delta, label='temperature delta')\n",
    "ax.set_title('Temperature Delta (Celcius) vs. Date & Time')\n",
    "ax.set_ylabel('Temperature Delta (Celcius)')\n",
    "ax.set_xlabel('Date & Time')\n",
    "fig.autofmt_xdate()\n",
    "plt.legend()\n",
    "plt.rcParams['figure.facecolor'] = 'white'\n",
    "plt.savefig('temp_delta.png', format='png')\n",
    "plt.show()"
   ]
  },
  {
   "cell_type": "code",
   "execution_count": null,
   "id": "aa0c619b-51d8-4eff-8396-f309a9fae561",
   "metadata": {},
   "outputs": [],
   "source": [
    "temp_delta = remove_outliers(telescope_data['air_temp']-telescope_data['mirror_temp'])\n",
    "print(f'mininum: {temp_delta.min()}')\n",
    "print(f'maximum: {temp_delta.max()}')\n",
    "print(f'variance: {temp_delta.var()}')\n",
    "print(f'standard deviation: {temp_delta.std()}')\n",
    "\n",
    "fig, ax = plt.subplots(figsize=(15, 5))\n",
    "ax.plot(temp_delta.index, temp_delta, label='temperature delta')\n",
    "ax.set_title('Temperature Delta (Celcius) vs. Date & Time')\n",
    "ax.set_ylabel('Temperature Delta (Celcius)')\n",
    "ax.set_xlabel('Date & Time')\n",
    "fig.autofmt_xdate()\n",
    "plt.legend()\n",
    "plt.rcParams['figure.facecolor'] = 'white'\n",
    "plt.savefig('temp_delta_no_outliers.png', format='png')\n",
    "plt.show()"
   ]
  },
  {
   "cell_type": "code",
   "execution_count": null,
   "id": "1f59b426-91f9-4220-b9b1-cca59800f636",
   "metadata": {},
   "outputs": [],
   "source": [
    "time_diff = np.zeros((len(telemetry_indicies)))\n",
    "for i in range(len(telemetry_indicies)-1):\n",
    "    time_diff[i] = (telemetry_data.index[telemetry_indicies[i+1]]-telemetry_data.index[telemetry_indicies[i]]).total_seconds()\n",
    "plt.scatter(telemetry_data.index[telemetry_indicies], time_diff)\n",
    "plt.show()\n",
    "rsm = np.sqrt(np.sum(np.square(time_diff))/len(time_diff))\n",
    "print(time_diff)\n",
    "print(len(time_diff))\n",
    "print(rsm)\n",
    "print(np.median(time_diff))\n",
    "print(np.mean(time_diff))\n",
    "print(np.min(time_diff))\n",
    "print(np.max(time_diff))\n"
   ]
  },
  {
   "cell_type": "markdown",
   "id": "b2fe9a86-e0c1-4aa6-bdc8-c3bba4a7267d",
   "metadata": {},
   "source": [
    "## Data Visualization Before Syncrization"
   ]
  },
  {
   "cell_type": "code",
   "execution_count": null,
   "id": "accde1be-668d-4a44-a2ea-af5479b1bc17",
   "metadata": {},
   "outputs": [],
   "source": [
    "start_date = cudf.Timestamp(year=2019,month=10,day=15,hour=0,minute=0,second=0,microsecond=0)\n",
    "end_date = cudf.Timestamp(year=2023,month=1,day=1,hour=0,minute=0,second=0,microsecond=0)\n",
    "print(start_date)\n",
    "print(end_date)\n",
    "print(end_date-start_date)\n",
    "assert(start_date<end_date)"
   ]
  },
  {
   "cell_type": "code",
   "execution_count": null,
   "id": "a2bf3c5d-b88d-48d6-bd4b-61a08ae27a66",
   "metadata": {},
   "outputs": [],
   "source": [
    "# Do the start dates of the tables match?\n",
    "time = tower_data.index[0]\n",
    "print(time)\n",
    "# print(dome_data['time_recorded'][0])\n",
    "# print(telescope_data['time_recorded'][0])"
   ]
  },
  {
   "cell_type": "code",
   "execution_count": null,
   "id": "bfd9f0b3-068e-4558-a82f-4875b1d980fb",
   "metadata": {},
   "outputs": [],
   "source": [
    "print(type(start_date+pd.DateOffset(days=1)))\n",
    "print(start_date+pd.DateOffset(days=1))"
   ]
  },
  {
   "cell_type": "code",
   "execution_count": null,
   "id": "3a9bca8d-e4dc-4a33-a25d-e47ff7717219",
   "metadata": {},
   "outputs": [],
   "source": [
    "start_date = pd.Timestamp(year=2022,month=9,day=24,hour=12,minute=0,second=0, tz=\"America/Phoenix\")\n",
    "end_date = start_date+pd.DateOffset(days=3)\n",
    "telescope_indicies = cp.argwhere(cp.logical_and(telescope_data.index >= start_date, telescope_data.index <= end_date))\n",
    "print(type(telescope_indicies))\n",
    "# print(type(telescope_indicies[0]))\n",
    "print(telescope_data.iloc[telescope_indicies])"
   ]
  },
  {
   "cell_type": "code",
   "execution_count": null,
   "id": "85d47eff-d79b-47c4-a2e1-bca381604f7f",
   "metadata": {},
   "outputs": [],
   "source": [
    "indicies = cp.argwhere(cp.logical_and(telescope_data.index >= start_date, telescope_data.index <= end_date)).flatten()\n",
    "print(indicies)"
   ]
  },
  {
   "cell_type": "code",
   "execution_count": null,
   "id": "95b2c59d-e23b-4fcf-8ec6-e42326bffa98",
   "metadata": {},
   "outputs": [],
   "source": [
    "%timeit np.argwhere(np.logical_and(telescope_data.index >= start_date, telescope_data.index <= end_date)).flatten()"
   ]
  },
  {
   "cell_type": "code",
   "execution_count": null,
   "id": "a58fff88-0e63-4243-bd0a-c14f4f0e2677",
   "metadata": {},
   "outputs": [],
   "source": [
    "start_date = pd.Timestamp(year=2022,month=9,day=24,hour=17, minute=0, second=0, microsecond=0, tz=\"America/Phoenix\")-pd.DateOffset(day=1)\n",
    "start_date = start_date.to_numpy()\n",
    "print(type(start_date))\n",
    "print(type(telescope_data.index[0]))"
   ]
  },
  {
   "cell_type": "code",
   "execution_count": null,
   "id": "2c25be75-c065-4d62-91b3-79104106687a",
   "metadata": {},
   "outputs": [],
   "source": [
    "@nb.jit(nopython=False)\n",
    "def new_temperature_plot(year=2022, month=9, day=24, offset=1, save=False):\n",
    "    start_date = pd.Timestamp(year=year,month=month,day=day,hour=17, minute=0, second=0, microsecond=0, tz=\"America/Phoenix\")-pd.DateOffset(day=1)\n",
    "    end_date = start_date+pd.DateOffset(day=offset)\n",
    "    if gpu_access:\n",
    "        start_date = start_date.to_numpy()\n",
    "        end_date = end_date.to_numpy()\n",
    "\n",
    "    print(f'Start date: {start_date}')\n",
    "    print(f'Offset length (# of days): {offset}')\n",
    "    \n",
    "    fig, ax = plt.subplots(ncols=2, figsize=(20,10))\n",
    "    ax0_plots = []\n",
    "    ax1_plots = []\n",
    "    ax[0].autoscale(True)\n",
    "    ax[0].set_title('Mirror Temperature & Seeing vs. Date/Time')\n",
    "    ax[0].set_ylabel('Mirror Temperature (Celcius)')\n",
    "    ax[0].set_xlabel('Date/Time')\n",
    "    ax[1].autoscale(True)\n",
    "    ax[1].set_title('Dome & Tower Temperature vs. Date/Time')\n",
    "    ax[1].set_ylabel('Dome Temperature (Celcius)')\n",
    "    ax[1].set_xlabel('Date/Time')\n",
    "\n",
    "    if gpu_access:\n",
    "        telescope_indicies = cp.argwhere(cp.logical_and(telescope_data.index >= start_date, telescope_data.index <= end_date)).flatten()\n",
    "    else:\n",
    "        telescope_indicies = np.argwhere(np.logical_and(telescope_data.index >= start_date, telescope_data.index <= end_date)).flatten()\n",
    "    temp_delta = remove_outliers(telescope_data.iloc[telescope_indicies]['air_temp']-telescope_data.iloc[telescope_indicies]['mirror_temp'])\n",
    "    print(f'Number of valid telescope environment samples in current time window: {len(telescope_indicies)}')\n",
    "    if len(telescope_indicies):\n",
    "        ax0_plots.append(ax[0].plot(telescope_data.index[telescope_indicies], telescope_data.iloc[telescope_indicies]['mirror_avg_temp'], label='average mirror temp')[0])\n",
    "        ax0_plots.append(ax[0].plot(telescope_data.index[telescope_indicies], telescope_data.iloc[telescope_indicies]['mirror_temp'], label='mirror temp')[0])\n",
    "        ax0_plots.append(ax[0].plot(telescope_data.index[telescope_indicies], telescope_data.iloc[telescope_indicies]['mirror_desired_temp'], label='desired mirror temp')[0])\n",
    "        ax0_plots.append(ax[0].plot(telescope_data.index[telescope_indicies], telescope_data.iloc[telescope_indicies]['air_temp'], label='air temp')[0])\n",
    "        ax0_plots.append(ax[0].plot(telescope_data.index[telescope_indicies], telescope_data.iloc[telescope_indicies]['mirror_cooling'], label='mirror cooling')[0])\n",
    "        ax0_plots.append(ax[0].plot(temp_delta.index, temp_delta, label='temp delta')[0])\n",
    "        ax[0].axhline(y=1.5, color='maroon', linestyle='--')\n",
    "        ax[0].axhline(y=-1.5, color='maroon', linestyle='--')\n",
    "        ax[0].annotate(u\"1.5 \\u2103\", xy=(end_date, 1.75), annotation_clip=False, ha='right')\n",
    "        ax[0].annotate(u\"-1.5 \\u2103\", xy=(end_date, -1.25), annotation_clip=False, ha='right')\n",
    "\n",
    "    if gpu_access:\n",
    "        telemetry_indicies = cp.argwhere(cp.logical_and(telemetry_data.index >= start_date, telemetry_data.index <= end_date)).flatten()\n",
    "    else:\n",
    "        telemetry_indicies = np.argwhere(np.logical_and(telemetry_data.index >= start_date, telemetry_data.index <= end_date)).flatten()\n",
    "    print(f'Number of valid etc telemetry samples in current time window: {len(telemetry_indicies)}')\n",
    "    if len(telemetry_indicies):\n",
    "        twin0 = ax[0].twinx()\n",
    "        ax0_plots.append(twin0.plot(telemetry_data.index[telemetry_indicies], telemetry_data.iloc[telemetry_indicies]['seeing'], color=\"indigo\", label='seeing')[0])\n",
    "        twin0.autoscale(True)\n",
    "        twin0.set_ylabel('Seeing')\n",
    "\n",
    "    if gpu_access:\n",
    "        dome_indicies = cp.argwhere(cp.logical_and(dome_data.index >= start_date, dome_data.index <= end_date)).flatten()\n",
    "    else:\n",
    "        dome_indicies = np.argwhere(np.logical_and(dome_data.index >= start_date, dome_data.index <= end_date)).flatten()\n",
    "    print(f'Number of valid dome environment samples in current time window: {len(dome_indicies)}')\n",
    "    if len(dome_indicies):\n",
    "        ax1_plots.append(ax[1].plot(dome_data.index[dome_indicies], dome_data.iloc[dome_indicies]['dome_floor_ne'], label='dome floor temp (NE)')[0])\n",
    "        ax1_plots.append(ax[1].plot(dome_data.index[dome_indicies], dome_data.iloc[dome_indicies]['dome_floor_nw'], label='dome floor temp (NW)')[0])\n",
    "        ax1_plots.append(ax[1].plot(dome_data.index[dome_indicies], dome_data.iloc[dome_indicies]['dome_floor_s'], label='dome floor temp (S)')[0])\n",
    "\n",
    "    if gpu_access:\n",
    "        tower_indicies = cp.argwhere(cp.logical_and(tower_data.index >= start_date, tower_data.index <= end_date)).flatten()\n",
    "    else:\n",
    "        tower_indicies = np.argwhere(np.logical_and(tower_data.index >= start_date, tower_data.index <= end_date)).flatten()\n",
    "    print(f'Number of valid tower environment samples in current time window: {len(tower_indicies)}')\n",
    "    if len(tower_indicies):\n",
    "        twin1 = ax[1].twinx()\n",
    "        ax1_plots.append(twin1.plot(tower_data.index[tower_indicies], tower_data.iloc[tower_indicies]['temperature'], color=\"indigo\", label='tower temp')[0])\n",
    "        twin1.autoscale(True)\n",
    "        twin1.set_ylabel('Tower Temperature (Celcius)')\n",
    "    \n",
    "    if ax1_plots:\n",
    "        ax[1].legend(handles=ax1_plots)\n",
    "    else:\n",
    "        ax[1].remove()\n",
    "\n",
    "    if ax0_plots:\n",
    "        ax[0].legend(handles=ax0_plots)\n",
    "        if save:\n",
    "            plt.savefig(f'time_plots/with_temp_delta/{year}-{month}-{day}_{offset}-day-offset.png', format='png')\n",
    "        plt.show()\n",
    "    else:\n",
    "        print(\"Insufficient data in this time window!\")"
   ]
  },
  {
   "cell_type": "code",
   "execution_count": null,
   "id": "cd7a21b5-45a0-4187-8448-8cdd00f7d7a3",
   "metadata": {},
   "outputs": [],
   "source": [
    "new_temperature_plot()"
   ]
  },
  {
   "cell_type": "code",
   "execution_count": null,
   "id": "91c85acf-ff6c-4875-9df5-f488aaf91a46",
   "metadata": {},
   "outputs": [],
   "source": [
    "new_temperature_plot(year=2022, month=6, day=10, offset=1, save=True)"
   ]
  },
  {
   "cell_type": "code",
   "execution_count": null,
   "id": "a4f4ebfd-ec6a-4d0b-8732-7365a26cd0d3",
   "metadata": {},
   "outputs": [],
   "source": [
    "new_temperature_plot(year=2022, month=6, day=10, offset=3, save=True)"
   ]
  },
  {
   "cell_type": "code",
   "execution_count": null,
   "id": "c15633ac-c3a3-4de7-a88b-baa3bdf4de60",
   "metadata": {},
   "outputs": [],
   "source": [
    "new_temperature_plot(year=2022, month=6, day=10, offset=3, save=True)"
   ]
  },
  {
   "cell_type": "code",
   "execution_count": null,
   "id": "1d6e14c1-64c1-41d0-a50b-e7d98d1a5c98",
   "metadata": {},
   "outputs": [],
   "source": [
    "new_temperature_plot(year=2022, month=1, day=1, offset=7, save=True)"
   ]
  },
  {
   "cell_type": "code",
   "execution_count": null,
   "id": "55e78558-2448-427f-ad96-daad6ef38032",
   "metadata": {},
   "outputs": [],
   "source": [
    "new_temperature_plot(year=2021, month=12, day=27, offset=7, save=True)"
   ]
  },
  {
   "cell_type": "code",
   "execution_count": null,
   "id": "d8f39928-094e-4822-a0cf-56d9eacb5a1f",
   "metadata": {},
   "outputs": [],
   "source": [
    "new_temperature_plot(year=2022, month=1, day=21, offset=7, save=True)"
   ]
  },
  {
   "cell_type": "code",
   "execution_count": null,
   "id": "e91d4320-098b-4109-8ddc-96d3bb2b3e1e",
   "metadata": {},
   "outputs": [],
   "source": [
    "new_temperature_plot(year=2021, month=2, day=1, offset=3, save=True)"
   ]
  },
  {
   "cell_type": "code",
   "execution_count": null,
   "id": "037b418d-d2f2-4d97-a511-89b29cb29a1c",
   "metadata": {},
   "outputs": [],
   "source": [
    "new_temperature_plot(year=2021, month=2, day=15, offset=3, save=True)"
   ]
  },
  {
   "cell_type": "code",
   "execution_count": null,
   "id": "d4e38a9f-ae19-4c8f-8edf-08dc17e92ed8",
   "metadata": {},
   "outputs": [],
   "source": [
    "new_temperature_plot(year=2021, month=6, day=15, offset=3, save=True)"
   ]
  },
  {
   "cell_type": "code",
   "execution_count": null,
   "id": "a8653007-1cd8-447f-b9ca-704044bf6a41",
   "metadata": {},
   "outputs": [],
   "source": [
    "new_temperature_plot(year=2021, month=7, day=15, offset=3, save=True)"
   ]
  },
  {
   "cell_type": "code",
   "execution_count": null,
   "id": "ac832d4f-fce7-4664-b7f6-68e70c71adb1",
   "metadata": {},
   "outputs": [],
   "source": [
    "new_temperature_plot(year=2021, month=8, day=15, offset=3, save=True)"
   ]
  },
  {
   "cell_type": "code",
   "execution_count": null,
   "id": "34f79930-6dca-4b37-bb47-f2aaa5fef46a",
   "metadata": {},
   "outputs": [],
   "source": [
    "new_temperature_plot(year=2021, month=9, day=15, offset=3, save=True)"
   ]
  },
  {
   "cell_type": "code",
   "execution_count": null,
   "id": "733e4e4e-ece2-4965-bfa8-60d7b85ae076",
   "metadata": {},
   "outputs": [],
   "source": [
    "new_temperature_plot(year=2021, month=10, day=15, offset=3, save=True)"
   ]
  },
  {
   "cell_type": "code",
   "execution_count": null,
   "id": "63b57ecc-2096-433d-bc5a-ec56ed65bbad",
   "metadata": {},
   "outputs": [],
   "source": [
    "new_temperature_plot(year=2021, month=11, day=15, offset=3, save=True)"
   ]
  },
  {
   "cell_type": "code",
   "execution_count": null,
   "id": "79318a98-aaf7-4a68-9812-fa8ed3f81fe8",
   "metadata": {},
   "outputs": [],
   "source": [
    "new_temperature_plot(year=2021, month=12, day=15, offset=3, save=True)"
   ]
  },
  {
   "cell_type": "code",
   "execution_count": null,
   "id": "da778625-81a6-4796-b84e-eec52289fb85",
   "metadata": {},
   "outputs": [],
   "source": [
    "new_temperature_plot(year=2021, month=3, day=15, offset=3, save=True)"
   ]
  },
  {
   "cell_type": "code",
   "execution_count": null,
   "id": "5562d080-59c4-4f7a-8077-294d3a6af30b",
   "metadata": {},
   "outputs": [],
   "source": [
    "new_temperature_plot(year=2021, month=4, day=15, offset=3, save=True)"
   ]
  },
  {
   "cell_type": "code",
   "execution_count": null,
   "id": "3bb05596-5505-4c3a-82a7-4ff70762e143",
   "metadata": {},
   "outputs": [],
   "source": [
    "new_temperature_plot(year=2021, month=5, day=15, offset=3, save=True)"
   ]
  },
  {
   "cell_type": "code",
   "execution_count": null,
   "id": "64e228d9-827b-4251-89e2-0099e31cdd00",
   "metadata": {},
   "outputs": [],
   "source": [
    "new_temperature_plot(year=2022, month=1, day=15, offset=7, save=True)"
   ]
  },
  {
   "cell_type": "code",
   "execution_count": null,
   "id": "8469cee9-3a2b-4eea-81d1-42d5872a92a2",
   "metadata": {},
   "outputs": [],
   "source": [
    "new_temperature_plot(year=2022, month=2, day=1, offset=3, save=True)"
   ]
  },
  {
   "cell_type": "code",
   "execution_count": null,
   "id": "b78afde6-fa2b-4f5b-b5fe-916bb6b94482",
   "metadata": {},
   "outputs": [],
   "source": [
    "new_temperature_plot(year=2022, month=1, day=15, offset=3, save=True)"
   ]
  },
  {
   "cell_type": "code",
   "execution_count": null,
   "id": "43fe765c-64c8-43ea-a11b-b5b53433aa54",
   "metadata": {},
   "outputs": [],
   "source": [
    "new_temperature_plot(year=2022, month=1, day=15, offset=5, save=True)"
   ]
  },
  {
   "cell_type": "code",
   "execution_count": null,
   "id": "c37350de-a6dd-4b0d-b801-56a70dc3252d",
   "metadata": {},
   "outputs": [],
   "source": [
    "new_temperature_plot(year=2022, month=2, day=15, offset=3, save=True)"
   ]
  },
  {
   "cell_type": "code",
   "execution_count": null,
   "id": "f2048873-f23f-4022-87af-643ee605e87d",
   "metadata": {},
   "outputs": [],
   "source": [
    "new_temperature_plot(year=2022, month=2, day=15, offset=5, save=True)"
   ]
  },
  {
   "cell_type": "code",
   "execution_count": null,
   "id": "36e1f426-4dc4-4e9f-90be-b1052406e33e",
   "metadata": {},
   "outputs": [],
   "source": [
    "new_temperature_plot(year=2022, month=3, day=15, offset=3, save=True)"
   ]
  },
  {
   "cell_type": "code",
   "execution_count": null,
   "id": "d5becaf8-a0d2-4073-b254-5a6c84378c1e",
   "metadata": {},
   "outputs": [],
   "source": [
    "new_temperature_plot(year=2022, month=3, day=15, offset=5, save=True)"
   ]
  },
  {
   "cell_type": "code",
   "execution_count": null,
   "id": "5e566a6c-a7ad-484b-ada1-b8703740c91a",
   "metadata": {},
   "outputs": [],
   "source": [
    "new_temperature_plot(year=2022, month=4, day=15, offset=3, save=True)"
   ]
  },
  {
   "cell_type": "code",
   "execution_count": null,
   "id": "59aa8a0d-0f0d-4f88-b38f-c03e501fb9e4",
   "metadata": {},
   "outputs": [],
   "source": [
    "new_temperature_plot(year=2022, month=4, day=15, offset=5, save=True)"
   ]
  },
  {
   "cell_type": "code",
   "execution_count": null,
   "id": "fa83b787-c35e-4f39-bc17-83e72e5f5176",
   "metadata": {},
   "outputs": [],
   "source": [
    "new_temperature_plot(year=2022, month=5, day=15, offset=3, save=True)"
   ]
  },
  {
   "cell_type": "code",
   "execution_count": null,
   "id": "0b3c0cb6-3d71-497a-8a23-04ca91a260a9",
   "metadata": {},
   "outputs": [],
   "source": [
    "new_temperature_plot(year=2022, month=5, day=15, offset=5, save=True)"
   ]
  },
  {
   "cell_type": "code",
   "execution_count": null,
   "id": "50a55e0d-948a-44b6-ac33-2a3de172ed3d",
   "metadata": {},
   "outputs": [],
   "source": [
    "new_temperature_plot(year=2022, month=6, day=15, offset=3, save=True)"
   ]
  },
  {
   "cell_type": "code",
   "execution_count": null,
   "id": "da8a2597-aa48-428d-93f6-eb48029e108b",
   "metadata": {},
   "outputs": [],
   "source": [
    "new_temperature_plot(year=2022, month=6, day=15, offset=5, save=True)"
   ]
  },
  {
   "cell_type": "code",
   "execution_count": null,
   "id": "535285b6-49bb-4539-8442-b1df5859f7bc",
   "metadata": {},
   "outputs": [],
   "source": [
    "new_temperature_plot(year=2022, month=7, day=15, offset=3, save=True)"
   ]
  },
  {
   "cell_type": "code",
   "execution_count": null,
   "id": "467c9b65-79e8-4dc3-908b-3c0cc5431d36",
   "metadata": {},
   "outputs": [],
   "source": [
    "new_temperature_plot(year=2022, month=7, day=15, offset=5, save=True)"
   ]
  },
  {
   "cell_type": "code",
   "execution_count": null,
   "id": "2686ae46-c99d-45ac-8380-1791b8e70c5c",
   "metadata": {},
   "outputs": [],
   "source": [
    "new_temperature_plot(year=2022, month=8, day=15, offset=3, save=True)"
   ]
  },
  {
   "cell_type": "code",
   "execution_count": null,
   "id": "c5b219bc-8086-48e4-a993-0d27396d5da0",
   "metadata": {},
   "outputs": [],
   "source": [
    "new_temperature_plot(year=2022, month=8, day=15, offset=5, save=True)"
   ]
  },
  {
   "cell_type": "code",
   "execution_count": null,
   "id": "eb644727-528a-417e-ba05-bce6a364a9e0",
   "metadata": {},
   "outputs": [],
   "source": [
    "new_temperature_plot(year=2022, month=9, day=15, offset=3, save=True)"
   ]
  },
  {
   "cell_type": "code",
   "execution_count": null,
   "id": "60fb4b44-fc59-4a20-86bf-a47eb6f1d6c7",
   "metadata": {},
   "outputs": [],
   "source": [
    "new_temperature_plot(year=2022, month=9, day=15, offset=5, save=True)"
   ]
  },
  {
   "cell_type": "code",
   "execution_count": null,
   "id": "3a5b51d6-b600-4935-9c2c-c7637a2a82e3",
   "metadata": {},
   "outputs": [],
   "source": [
    "new_temperature_plot(year=2022, month=10, day=15, offset=3, save=True)"
   ]
  },
  {
   "cell_type": "code",
   "execution_count": null,
   "id": "6d3e8ba0-9b45-4a05-8e7b-b61c267a61f4",
   "metadata": {},
   "outputs": [],
   "source": [
    "new_temperature_plot(year=2022, month=10, day=15, offset=5, save=True)"
   ]
  },
  {
   "cell_type": "code",
   "execution_count": null,
   "id": "0f052756-d2f3-4905-8597-5848873642d2",
   "metadata": {},
   "outputs": [],
   "source": [
    "new_temperature_plot(year=2022, month=11, day=15, offset=3, save=True)"
   ]
  },
  {
   "cell_type": "code",
   "execution_count": null,
   "id": "6e7c07ca-3852-4bc4-9f4a-a6b98a7cc865",
   "metadata": {},
   "outputs": [],
   "source": [
    "new_temperature_plot(year=2022, month=11, day=15, offset=5, save=True)"
   ]
  },
  {
   "cell_type": "code",
   "execution_count": null,
   "id": "b91fc695-4627-4a44-a369-5bc855373664",
   "metadata": {},
   "outputs": [],
   "source": [
    "new_temperature_plot(year=2022, month=12, day=15, offset=3, save=True)"
   ]
  },
  {
   "cell_type": "code",
   "execution_count": null,
   "id": "5d8242fa-2662-4a35-ac1a-7f3c3cb09d2f",
   "metadata": {},
   "outputs": [],
   "source": [
    "new_temperature_plot(year=2022, month=12, day=15, offset=5, save=True)"
   ]
  },
  {
   "cell_type": "code",
   "execution_count": null,
   "id": "c3cfe091-19f9-455a-a1f2-b23b8e3c5378",
   "metadata": {},
   "outputs": [],
   "source": [
    "display(Image(filename='correlation/temp_corr_before_sync.png'))"
   ]
  },
  {
   "cell_type": "markdown",
   "id": "b6083e77-ff13-4533-8448-ae6c7737e51d",
   "metadata": {},
   "source": [
    "## Unsuccessful sorting and array modification"
   ]
  },
  {
   "cell_type": "code",
   "execution_count": null,
   "id": "f9a06555-6b10-497b-8b25-3c899b45bc2d",
   "metadata": {},
   "outputs": [],
   "source": [
    "# new = temp[temp.index.any() >= start and temp.index.any() <= end]\n",
    "# print(new)"
   ]
  },
  {
   "cell_type": "code",
   "execution_count": null,
   "id": "26f68429-cd3f-4956-8d32-bb4fdd340d9a",
   "metadata": {},
   "outputs": [],
   "source": [
    "# temp = dome_data.copy(deep=True)\n",
    "# temp.set_index('time_recorded', inplace=True)\n",
    "# print(type(temp.index))\n",
    "# temp = temp.resample('6S').mean()\n",
    "# print(temp)"
   ]
  },
  {
   "cell_type": "code",
   "execution_count": null,
   "id": "62b16f08-83e9-4605-9b10-c714cb970d5a",
   "metadata": {},
   "outputs": [],
   "source": [
    "# print(min(telescope_data['time_recorded'][start_index+count]))"
   ]
  },
  {
   "cell_type": "code",
   "execution_count": null,
   "id": "38f20e0b-eeb9-4e59-8d36-ae3e287e3b90",
   "metadata": {},
   "outputs": [],
   "source": [
    "# print(telescope_data['time_recorded'].to_pydatetime()) # tried converting array of pandas Timestamp to datetime objects"
   ]
  },
  {
   "cell_type": "code",
   "execution_count": null,
   "id": "d97e9c22-35e3-459a-bbbd-bc4edd176b09",
   "metadata": {},
   "outputs": [],
   "source": [
    "# print(telescope_data['time_recorded'][0].to_pydatetime()) # tried converting array of pandas Timestamp to datetime objects"
   ]
  },
  {
   "cell_type": "code",
   "execution_count": null,
   "id": "e51913f4-9358-41d8-b8d8-59584ef5438f",
   "metadata": {},
   "outputs": [],
   "source": [
    "# print(telescope_data['time_recorded'].apply(lambda x: x.to_pydatetime())) # tried converting array of pandas Timestamp to datetime objects"
   ]
  },
  {
   "cell_type": "code",
   "execution_count": null,
   "id": "46de06a4-ecf7-4c1e-9598-28dc85576956",
   "metadata": {},
   "outputs": [],
   "source": [
    "# telescope_data['time_recorded'] = telescope_data.assign(time_recored=lambda x: x['time_recorded'].to_pydatetime()) # save time conversion array and display\n",
    "# print(type(telescope_data['time_recorded'][0]))"
   ]
  },
  {
   "cell_type": "code",
   "execution_count": null,
   "id": "95ba0bea-7d59-441d-9907-06164b731d48",
   "metadata": {},
   "outputs": [],
   "source": [
    "# print(type(sorted_tower_data.sort_values()[0]))"
   ]
  },
  {
   "cell_type": "code",
   "execution_count": null,
   "id": "597a59f2-5b82-44c4-8bde-0ca0f12a0e0e",
   "metadata": {},
   "outputs": [],
   "source": [
    "# print(type(telescope_data['time_recorded'].apply(lambda x: x.to_pydatetime())[0]))"
   ]
  },
  {
   "cell_type": "code",
   "execution_count": null,
   "id": "41f8f9c7-ad84-42e1-9719-189d81f059ae",
   "metadata": {},
   "outputs": [],
   "source": [
    "# assert(tower_data['time_recorded']==tower_data.sort_values(['time_recorded'])['time_recorded'])\n",
    "# assert(tower_data['time_recorded']==tower_data.sort_values(['time_recorded'])['time_recorded'])"
   ]
  },
  {
   "cell_type": "code",
   "execution_count": null,
   "id": "d7167fbf-68cb-4b14-8e9d-4ddcf94ef1b4",
   "metadata": {},
   "outputs": [],
   "source": [
    "# print('initial number of samples per table')\n",
    "# print(f'environmentmonitor_tower: {len(tower_data.index)}')\n",
    "# print(f'environmentmonitor_dome: {len(dome_data.index)}')\n",
    "# print(f'environmentmonitor_telescope: {len(telescope_data.index)}')\n",
    "# print(f'etc_seeing: {len(etc_seeing_data.index)}')\n",
    "# print(f'etc_telemetry: {len(etc_telemetry_data.index)}')\n",
    "# print(f'tcs_info: {len(tcs_info_data.index)}')"
   ]
  },
  {
   "cell_type": "code",
   "execution_count": null,
   "id": "3f2d64e4-46a2-40ac-a0c1-99a357196b5d",
   "metadata": {},
   "outputs": [],
   "source": [
    "# fig, ax = plt.subplots(ncols=4, figsize=(40,10))\n",
    "\n",
    "# ax[0].scatter(tower_data['time_recorded'], tower_data['temperature'])\n",
    "# ax[0].set_xlabel('time_recorded')\n",
    "# ax[0].set_ylabel('temperature')\n",
    "\n",
    "# ax[1].scatter(telescope_data['time_recorded'], telescope_data['mirror_avg_temp'])\n",
    "# ax[1].set_xlabel('time_recorded')\n",
    "# ax[1].set_ylabel('mirror_avg_temp')\n",
    "\n",
    "# ax[2].scatter(telescope_data['time_recorded'], telescope_data['mirror_desired_temp'])\n",
    "# ax[2].set_xlabel('time_recorded')\n",
    "# ax[2].set_ylabel('mirror_desired_temp')\n",
    "\n",
    "# ax[3].scatter(etc_telemetry['time_recorded'], etc_telemetry['seeing'])\n",
    "# ax[3].set_xlabel('time_recorded')\n",
    "# ax[3].set_ylabel('seeing')\n",
    "\n",
    "# plt.savefig('seeing_vs_time.png')\n",
    "# plt.show()"
   ]
  }
 ],
 "metadata": {
  "kernelspec": {
   "display_name": "DESI main",
   "language": "python",
   "name": "desi-main"
  },
  "language_info": {
   "codemirror_mode": {
    "name": "ipython",
    "version": 3
   },
   "file_extension": ".py",
   "mimetype": "text/x-python",
   "name": "python",
   "nbconvert_exporter": "python",
   "pygments_lexer": "ipython3",
   "version": "3.9.7"
  },
  "toc-autonumbering": true,
  "toc-showmarkdowntxt": true
 },
 "nbformat": 4,
 "nbformat_minor": 5
}
